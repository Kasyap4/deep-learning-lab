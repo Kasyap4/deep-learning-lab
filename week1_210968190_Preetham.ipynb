{
 "cells": [
  {
   "cell_type": "markdown",
   "id": "619e819b",
   "metadata": {},
   "source": [
    "# Week1_210968190_preetham"
   ]
  },
  {
   "cell_type": "code",
   "execution_count": 1,
   "id": "d68e13d8",
   "metadata": {},
   "outputs": [],
   "source": [
    "import pandas as pd\n",
    "import numpy as np\n",
    "from sklearn.model_selection import train_test_split\n",
    "import tensorflow as tf\n",
    "from tensorflow.keras.models import Sequential\n",
    "from tensorflow.keras.layers import Dense, Input"
   ]
  },
  {
   "cell_type": "markdown",
   "id": "b5ad30a7",
   "metadata": {},
   "source": [
    "#### Accurate measurement of body fat is inconvenient/costly and it is desirable to have easy methods of predicting Body Fat. Using the Body Fat dataset, write a Neural Network to predict body fat: a. Number of Hidden layers = 3 and number of units are 128,64,32 b. Use RELU activation function, let learning rate be 0.1 Split the data into (80,20) split and tabulate the performance in terms of RMS for 100 epochs and comment on performance."
   ]
  },
  {
   "cell_type": "markdown",
   "id": "22a59002",
   "metadata": {},
   "source": [
    "# # Load the dataset from 'bodyfat.csv'"
   ]
  },
  {
   "cell_type": "code",
   "execution_count": 2,
   "id": "4f5ee790",
   "metadata": {},
   "outputs": [],
   "source": [
    "df=pd.read_csv('bodyfat.csv')"
   ]
  },
  {
   "cell_type": "markdown",
   "id": "97cf9cf3",
   "metadata": {},
   "source": [
    "#  Display the first few rows of the DataFrame"
   ]
  },
  {
   "cell_type": "code",
   "execution_count": 3,
   "id": "21e4da06",
   "metadata": {},
   "outputs": [
    {
     "data": {
      "text/html": [
       "<div>\n",
       "<style scoped>\n",
       "    .dataframe tbody tr th:only-of-type {\n",
       "        vertical-align: middle;\n",
       "    }\n",
       "\n",
       "    .dataframe tbody tr th {\n",
       "        vertical-align: top;\n",
       "    }\n",
       "\n",
       "    .dataframe thead th {\n",
       "        text-align: right;\n",
       "    }\n",
       "</style>\n",
       "<table border=\"1\" class=\"dataframe\">\n",
       "  <thead>\n",
       "    <tr style=\"text-align: right;\">\n",
       "      <th></th>\n",
       "      <th>Density</th>\n",
       "      <th>BodyFat</th>\n",
       "      <th>Age</th>\n",
       "      <th>Weight</th>\n",
       "      <th>Height</th>\n",
       "      <th>Neck</th>\n",
       "      <th>Chest</th>\n",
       "      <th>Abdomen</th>\n",
       "      <th>Hip</th>\n",
       "      <th>Thigh</th>\n",
       "      <th>Knee</th>\n",
       "      <th>Ankle</th>\n",
       "      <th>Biceps</th>\n",
       "      <th>Forearm</th>\n",
       "      <th>Wrist</th>\n",
       "    </tr>\n",
       "  </thead>\n",
       "  <tbody>\n",
       "    <tr>\n",
       "      <th>0</th>\n",
       "      <td>1.0708</td>\n",
       "      <td>12.3</td>\n",
       "      <td>23</td>\n",
       "      <td>154.25</td>\n",
       "      <td>67.75</td>\n",
       "      <td>36.2</td>\n",
       "      <td>93.1</td>\n",
       "      <td>85.2</td>\n",
       "      <td>94.5</td>\n",
       "      <td>59.0</td>\n",
       "      <td>37.3</td>\n",
       "      <td>21.9</td>\n",
       "      <td>32.0</td>\n",
       "      <td>27.4</td>\n",
       "      <td>17.1</td>\n",
       "    </tr>\n",
       "    <tr>\n",
       "      <th>1</th>\n",
       "      <td>1.0853</td>\n",
       "      <td>6.1</td>\n",
       "      <td>22</td>\n",
       "      <td>173.25</td>\n",
       "      <td>72.25</td>\n",
       "      <td>38.5</td>\n",
       "      <td>93.6</td>\n",
       "      <td>83.0</td>\n",
       "      <td>98.7</td>\n",
       "      <td>58.7</td>\n",
       "      <td>37.3</td>\n",
       "      <td>23.4</td>\n",
       "      <td>30.5</td>\n",
       "      <td>28.9</td>\n",
       "      <td>18.2</td>\n",
       "    </tr>\n",
       "    <tr>\n",
       "      <th>2</th>\n",
       "      <td>1.0414</td>\n",
       "      <td>25.3</td>\n",
       "      <td>22</td>\n",
       "      <td>154.00</td>\n",
       "      <td>66.25</td>\n",
       "      <td>34.0</td>\n",
       "      <td>95.8</td>\n",
       "      <td>87.9</td>\n",
       "      <td>99.2</td>\n",
       "      <td>59.6</td>\n",
       "      <td>38.9</td>\n",
       "      <td>24.0</td>\n",
       "      <td>28.8</td>\n",
       "      <td>25.2</td>\n",
       "      <td>16.6</td>\n",
       "    </tr>\n",
       "    <tr>\n",
       "      <th>3</th>\n",
       "      <td>1.0751</td>\n",
       "      <td>10.4</td>\n",
       "      <td>26</td>\n",
       "      <td>184.75</td>\n",
       "      <td>72.25</td>\n",
       "      <td>37.4</td>\n",
       "      <td>101.8</td>\n",
       "      <td>86.4</td>\n",
       "      <td>101.2</td>\n",
       "      <td>60.1</td>\n",
       "      <td>37.3</td>\n",
       "      <td>22.8</td>\n",
       "      <td>32.4</td>\n",
       "      <td>29.4</td>\n",
       "      <td>18.2</td>\n",
       "    </tr>\n",
       "    <tr>\n",
       "      <th>4</th>\n",
       "      <td>1.0340</td>\n",
       "      <td>28.7</td>\n",
       "      <td>24</td>\n",
       "      <td>184.25</td>\n",
       "      <td>71.25</td>\n",
       "      <td>34.4</td>\n",
       "      <td>97.3</td>\n",
       "      <td>100.0</td>\n",
       "      <td>101.9</td>\n",
       "      <td>63.2</td>\n",
       "      <td>42.2</td>\n",
       "      <td>24.0</td>\n",
       "      <td>32.2</td>\n",
       "      <td>27.7</td>\n",
       "      <td>17.7</td>\n",
       "    </tr>\n",
       "  </tbody>\n",
       "</table>\n",
       "</div>"
      ],
      "text/plain": [
       "   Density  BodyFat  Age  Weight  Height  Neck  Chest  Abdomen    Hip  Thigh  \\\n",
       "0   1.0708     12.3   23  154.25   67.75  36.2   93.1     85.2   94.5   59.0   \n",
       "1   1.0853      6.1   22  173.25   72.25  38.5   93.6     83.0   98.7   58.7   \n",
       "2   1.0414     25.3   22  154.00   66.25  34.0   95.8     87.9   99.2   59.6   \n",
       "3   1.0751     10.4   26  184.75   72.25  37.4  101.8     86.4  101.2   60.1   \n",
       "4   1.0340     28.7   24  184.25   71.25  34.4   97.3    100.0  101.9   63.2   \n",
       "\n",
       "   Knee  Ankle  Biceps  Forearm  Wrist  \n",
       "0  37.3   21.9    32.0     27.4   17.1  \n",
       "1  37.3   23.4    30.5     28.9   18.2  \n",
       "2  38.9   24.0    28.8     25.2   16.6  \n",
       "3  37.3   22.8    32.4     29.4   18.2  \n",
       "4  42.2   24.0    32.2     27.7   17.7  "
      ]
     },
     "execution_count": 3,
     "metadata": {},
     "output_type": "execute_result"
    }
   ],
   "source": [
    "df.head()"
   ]
  },
  {
   "cell_type": "markdown",
   "id": "fb70503c",
   "metadata": {},
   "source": [
    "# Display the shape of the DataFrame (number of rows, number of columns)"
   ]
  },
  {
   "cell_type": "code",
   "execution_count": 4,
   "id": "4ccdbf03",
   "metadata": {},
   "outputs": [
    {
     "data": {
      "text/plain": [
       "(252, 15)"
      ]
     },
     "execution_count": 4,
     "metadata": {},
     "output_type": "execute_result"
    }
   ],
   "source": [
    "df.shape"
   ]
  },
  {
   "cell_type": "markdown",
   "id": "a5a69a28",
   "metadata": {},
   "source": [
    "#  Separate features (x) and target variable (y)"
   ]
  },
  {
   "cell_type": "code",
   "execution_count": 5,
   "id": "6eb90be2",
   "metadata": {},
   "outputs": [],
   "source": [
    "x=df.drop(columns='BodyFat',axis=1)\n",
    "y=df['BodyFat']"
   ]
  },
  {
   "cell_type": "markdown",
   "id": "7c035748",
   "metadata": {},
   "source": [
    "# Split the data into training and testing sets"
   ]
  },
  {
   "cell_type": "code",
   "execution_count": 6,
   "id": "557537c2",
   "metadata": {},
   "outputs": [],
   "source": [
    "x_train, x_test,y_train, y_test = train_test_split(x,y,test_size=0.2)"
   ]
  },
  {
   "cell_type": "markdown",
   "id": "1af749a5",
   "metadata": {},
   "source": [
    "# Build the sequential model"
   ]
  },
  {
   "cell_type": "code",
   "execution_count": 7,
   "id": "32f48d51",
   "metadata": {},
   "outputs": [],
   "source": [
    "model = Sequential([\n",
    "    Input(shape=(14,)),\n",
    "    Dense(128, activation='relu'),\n",
    "    Dense(64, activation='relu'),\n",
    "    Dense(32, activation='relu'),\n",
    "    Dense(1, activation='relu')\n",
    "])"
   ]
  },
  {
   "cell_type": "markdown",
   "id": "290754c7",
   "metadata": {},
   "source": [
    "# Display model summary"
   ]
  },
  {
   "cell_type": "code",
   "execution_count": 8,
   "id": "dec8c096",
   "metadata": {},
   "outputs": [
    {
     "name": "stdout",
     "output_type": "stream",
     "text": [
      "Model: \"sequential\"\n",
      "_________________________________________________________________\n",
      " Layer (type)                Output Shape              Param #   \n",
      "=================================================================\n",
      " dense (Dense)               (None, 128)               1920      \n",
      "                                                                 \n",
      " dense_1 (Dense)             (None, 64)                8256      \n",
      "                                                                 \n",
      " dense_2 (Dense)             (None, 32)                2080      \n",
      "                                                                 \n",
      " dense_3 (Dense)             (None, 1)                 33        \n",
      "                                                                 \n",
      "=================================================================\n",
      "Total params: 12289 (48.00 KB)\n",
      "Trainable params: 12289 (48.00 KB)\n",
      "Non-trainable params: 0 (0.00 Byte)\n",
      "_________________________________________________________________\n"
     ]
    }
   ],
   "source": [
    "model.summary()"
   ]
  },
  {
   "cell_type": "markdown",
   "id": "89b58d7f",
   "metadata": {},
   "source": [
    "# Compile the model with optimizer, loss function, and evaluation metric"
   ]
  },
  {
   "cell_type": "code",
   "execution_count": 9,
   "id": "8d11cc37",
   "metadata": {},
   "outputs": [
    {
     "name": "stderr",
     "output_type": "stream",
     "text": [
      "WARNING:absl:At this time, the v2.11+ optimizer `tf.keras.optimizers.Adam` runs slowly on M1/M2 Macs, please use the legacy Keras optimizer instead, located at `tf.keras.optimizers.legacy.Adam`.\n",
      "WARNING:absl:There is a known slowdown when using v2.11+ Keras optimizers on M1/M2 Macs. Falling back to the legacy Keras optimizer, i.e., `tf.keras.optimizers.legacy.Adam`.\n"
     ]
    }
   ],
   "source": [
    "model.compile(optimizer=tf.keras.optimizers.Adam(learning_rate=0.1),\n",
    "              loss='mse',\n",
    "    metrics=[tf.keras.metrics.RootMeanSquaredError()])"
   ]
  },
  {
   "cell_type": "markdown",
   "id": "3da5264e",
   "metadata": {},
   "source": [
    "# Train the model on the training data"
   ]
  },
  {
   "cell_type": "code",
   "execution_count": 10,
   "id": "df18c853",
   "metadata": {},
   "outputs": [
    {
     "name": "stdout",
     "output_type": "stream",
     "text": [
      "Epoch 1/100\n",
      "7/7 [==============================] - 0s 1ms/step - loss: 2326829.2500 - root_mean_squared_error: 1525.3948\n",
      "Epoch 2/100\n",
      "7/7 [==============================] - 0s 986us/step - loss: 433.5646 - root_mean_squared_error: 20.8222\n",
      "Epoch 3/100\n",
      "7/7 [==============================] - 0s 1ms/step - loss: 433.5646 - root_mean_squared_error: 20.8222\n",
      "Epoch 4/100\n",
      "7/7 [==============================] - 0s 985us/step - loss: 433.5647 - root_mean_squared_error: 20.8222\n",
      "Epoch 5/100\n",
      "7/7 [==============================] - 0s 2ms/step - loss: 433.5647 - root_mean_squared_error: 20.8222\n",
      "Epoch 6/100\n",
      "7/7 [==============================] - 0s 894us/step - loss: 433.5646 - root_mean_squared_error: 20.8222\n",
      "Epoch 7/100\n",
      "7/7 [==============================] - 0s 965us/step - loss: 433.5647 - root_mean_squared_error: 20.8222\n",
      "Epoch 8/100\n",
      "7/7 [==============================] - 0s 947us/step - loss: 433.5646 - root_mean_squared_error: 20.8222\n",
      "Epoch 9/100\n",
      "7/7 [==============================] - 0s 1ms/step - loss: 433.5646 - root_mean_squared_error: 20.8222\n",
      "Epoch 10/100\n",
      "7/7 [==============================] - 0s 934us/step - loss: 433.5646 - root_mean_squared_error: 20.8222\n",
      "Epoch 11/100\n",
      "7/7 [==============================] - 0s 983us/step - loss: 433.5647 - root_mean_squared_error: 20.8222\n",
      "Epoch 12/100\n",
      "7/7 [==============================] - 0s 960us/step - loss: 433.5646 - root_mean_squared_error: 20.8222\n",
      "Epoch 13/100\n",
      "7/7 [==============================] - 0s 1ms/step - loss: 433.5647 - root_mean_squared_error: 20.8222\n",
      "Epoch 14/100\n",
      "7/7 [==============================] - 0s 1ms/step - loss: 433.5647 - root_mean_squared_error: 20.8222\n",
      "Epoch 15/100\n",
      "7/7 [==============================] - 0s 1ms/step - loss: 433.5647 - root_mean_squared_error: 20.8222\n",
      "Epoch 16/100\n",
      "7/7 [==============================] - 0s 1ms/step - loss: 433.5647 - root_mean_squared_error: 20.8222\n",
      "Epoch 17/100\n",
      "7/7 [==============================] - 0s 1ms/step - loss: 433.5647 - root_mean_squared_error: 20.8222\n",
      "Epoch 18/100\n",
      "7/7 [==============================] - 0s 993us/step - loss: 433.5647 - root_mean_squared_error: 20.8222\n",
      "Epoch 19/100\n",
      "7/7 [==============================] - 0s 998us/step - loss: 433.5647 - root_mean_squared_error: 20.8222\n",
      "Epoch 20/100\n",
      "7/7 [==============================] - 0s 1ms/step - loss: 433.5647 - root_mean_squared_error: 20.8222\n",
      "Epoch 21/100\n",
      "7/7 [==============================] - 0s 1ms/step - loss: 433.5647 - root_mean_squared_error: 20.8222\n",
      "Epoch 22/100\n",
      "7/7 [==============================] - 0s 1ms/step - loss: 433.5647 - root_mean_squared_error: 20.8222\n",
      "Epoch 23/100\n",
      "7/7 [==============================] - 0s 1ms/step - loss: 433.5647 - root_mean_squared_error: 20.8222\n",
      "Epoch 24/100\n",
      "7/7 [==============================] - 0s 1ms/step - loss: 433.5647 - root_mean_squared_error: 20.8222\n",
      "Epoch 25/100\n",
      "7/7 [==============================] - 0s 1ms/step - loss: 433.5647 - root_mean_squared_error: 20.8222\n",
      "Epoch 26/100\n",
      "7/7 [==============================] - 0s 992us/step - loss: 433.5647 - root_mean_squared_error: 20.8222\n",
      "Epoch 27/100\n",
      "7/7 [==============================] - 0s 1ms/step - loss: 433.5647 - root_mean_squared_error: 20.8222\n",
      "Epoch 28/100\n",
      "7/7 [==============================] - 0s 1ms/step - loss: 433.5646 - root_mean_squared_error: 20.8222\n",
      "Epoch 29/100\n",
      "7/7 [==============================] - 0s 1ms/step - loss: 433.5647 - root_mean_squared_error: 20.8222\n",
      "Epoch 30/100\n",
      "7/7 [==============================] - 0s 1ms/step - loss: 433.5646 - root_mean_squared_error: 20.8222\n",
      "Epoch 31/100\n",
      "7/7 [==============================] - 0s 1ms/step - loss: 433.5647 - root_mean_squared_error: 20.8222\n",
      "Epoch 32/100\n",
      "7/7 [==============================] - 0s 1ms/step - loss: 433.5646 - root_mean_squared_error: 20.8222\n",
      "Epoch 33/100\n",
      "7/7 [==============================] - 0s 987us/step - loss: 433.5647 - root_mean_squared_error: 20.8222\n",
      "Epoch 34/100\n",
      "7/7 [==============================] - 0s 1ms/step - loss: 433.5647 - root_mean_squared_error: 20.8222\n",
      "Epoch 35/100\n",
      "7/7 [==============================] - 0s 1ms/step - loss: 433.5647 - root_mean_squared_error: 20.8222\n",
      "Epoch 36/100\n",
      "7/7 [==============================] - 0s 987us/step - loss: 433.5647 - root_mean_squared_error: 20.8222\n",
      "Epoch 37/100\n",
      "7/7 [==============================] - 0s 1ms/step - loss: 433.5646 - root_mean_squared_error: 20.8222\n",
      "Epoch 38/100\n",
      "7/7 [==============================] - 0s 998us/step - loss: 433.5647 - root_mean_squared_error: 20.8222\n",
      "Epoch 39/100\n",
      "7/7 [==============================] - 0s 1ms/step - loss: 433.5647 - root_mean_squared_error: 20.8222\n",
      "Epoch 40/100\n",
      "7/7 [==============================] - 0s 991us/step - loss: 433.5647 - root_mean_squared_error: 20.8222\n",
      "Epoch 41/100\n",
      "7/7 [==============================] - 0s 1ms/step - loss: 433.5647 - root_mean_squared_error: 20.8222\n",
      "Epoch 42/100\n",
      "7/7 [==============================] - 0s 1ms/step - loss: 433.5647 - root_mean_squared_error: 20.8222\n",
      "Epoch 43/100\n",
      "7/7 [==============================] - 0s 1ms/step - loss: 433.5647 - root_mean_squared_error: 20.8222\n",
      "Epoch 44/100\n",
      "7/7 [==============================] - 0s 1000us/step - loss: 433.5646 - root_mean_squared_error: 20.8222\n",
      "Epoch 45/100\n",
      "7/7 [==============================] - 0s 1ms/step - loss: 433.5647 - root_mean_squared_error: 20.8222\n",
      "Epoch 46/100\n",
      "7/7 [==============================] - 0s 970us/step - loss: 433.5646 - root_mean_squared_error: 20.8222\n",
      "Epoch 47/100\n",
      "7/7 [==============================] - 0s 1ms/step - loss: 433.5646 - root_mean_squared_error: 20.8222\n",
      "Epoch 48/100\n",
      "7/7 [==============================] - 0s 961us/step - loss: 433.5646 - root_mean_squared_error: 20.8222\n",
      "Epoch 49/100\n",
      "7/7 [==============================] - 0s 1ms/step - loss: 433.5647 - root_mean_squared_error: 20.8222\n",
      "Epoch 50/100\n",
      "7/7 [==============================] - 0s 1ms/step - loss: 433.5647 - root_mean_squared_error: 20.8222\n",
      "Epoch 51/100\n",
      "7/7 [==============================] - 0s 1ms/step - loss: 433.5647 - root_mean_squared_error: 20.8222\n",
      "Epoch 52/100\n",
      "7/7 [==============================] - 0s 1ms/step - loss: 433.5647 - root_mean_squared_error: 20.8222\n",
      "Epoch 53/100\n",
      "7/7 [==============================] - 0s 1ms/step - loss: 433.5647 - root_mean_squared_error: 20.8222\n",
      "Epoch 54/100\n",
      "7/7 [==============================] - 0s 1ms/step - loss: 433.5647 - root_mean_squared_error: 20.8222\n",
      "Epoch 55/100\n",
      "7/7 [==============================] - 0s 1ms/step - loss: 433.5647 - root_mean_squared_error: 20.8222\n",
      "Epoch 56/100\n",
      "7/7 [==============================] - 0s 1ms/step - loss: 433.5647 - root_mean_squared_error: 20.8222\n",
      "Epoch 57/100\n",
      "7/7 [==============================] - 0s 1ms/step - loss: 433.5647 - root_mean_squared_error: 20.8222\n",
      "Epoch 58/100\n",
      "7/7 [==============================] - 0s 1ms/step - loss: 433.5647 - root_mean_squared_error: 20.8222\n",
      "Epoch 59/100\n",
      "7/7 [==============================] - 0s 1ms/step - loss: 433.5647 - root_mean_squared_error: 20.8222\n",
      "Epoch 60/100\n",
      "7/7 [==============================] - 0s 1ms/step - loss: 433.5647 - root_mean_squared_error: 20.8222\n",
      "Epoch 61/100\n",
      "7/7 [==============================] - 0s 1ms/step - loss: 433.5647 - root_mean_squared_error: 20.8222\n",
      "Epoch 62/100\n",
      "7/7 [==============================] - 0s 1ms/step - loss: 433.5647 - root_mean_squared_error: 20.8222\n",
      "Epoch 63/100\n",
      "7/7 [==============================] - 0s 2ms/step - loss: 433.5646 - root_mean_squared_error: 20.8222\n",
      "Epoch 64/100\n",
      "7/7 [==============================] - 0s 1ms/step - loss: 433.5647 - root_mean_squared_error: 20.8222\n",
      "Epoch 65/100\n",
      "7/7 [==============================] - 0s 1ms/step - loss: 433.5646 - root_mean_squared_error: 20.8222\n",
      "Epoch 66/100\n",
      "7/7 [==============================] - 0s 1ms/step - loss: 433.5647 - root_mean_squared_error: 20.8222\n",
      "Epoch 67/100\n",
      "7/7 [==============================] - 0s 1ms/step - loss: 433.5647 - root_mean_squared_error: 20.8222\n",
      "Epoch 68/100\n",
      "7/7 [==============================] - 0s 1ms/step - loss: 433.5647 - root_mean_squared_error: 20.8222\n",
      "Epoch 69/100\n",
      "7/7 [==============================] - 0s 1ms/step - loss: 433.5647 - root_mean_squared_error: 20.8222\n",
      "Epoch 70/100\n",
      "7/7 [==============================] - 0s 1ms/step - loss: 433.5647 - root_mean_squared_error: 20.8222\n",
      "Epoch 71/100\n",
      "7/7 [==============================] - 0s 1ms/step - loss: 433.5646 - root_mean_squared_error: 20.8222\n",
      "Epoch 72/100\n",
      "7/7 [==============================] - 0s 1ms/step - loss: 433.5647 - root_mean_squared_error: 20.8222\n",
      "Epoch 73/100\n",
      "7/7 [==============================] - 0s 1ms/step - loss: 433.5647 - root_mean_squared_error: 20.8222\n",
      "Epoch 74/100\n",
      "7/7 [==============================] - 0s 984us/step - loss: 433.5647 - root_mean_squared_error: 20.8222\n",
      "Epoch 75/100\n",
      "7/7 [==============================] - 0s 1ms/step - loss: 433.5647 - root_mean_squared_error: 20.8222\n",
      "Epoch 76/100\n",
      "7/7 [==============================] - 0s 966us/step - loss: 433.5647 - root_mean_squared_error: 20.8222\n",
      "Epoch 77/100\n",
      "7/7 [==============================] - 0s 928us/step - loss: 433.5647 - root_mean_squared_error: 20.8222\n",
      "Epoch 78/100\n",
      "7/7 [==============================] - 0s 961us/step - loss: 433.5646 - root_mean_squared_error: 20.8222\n",
      "Epoch 79/100\n",
      "7/7 [==============================] - 0s 919us/step - loss: 433.5647 - root_mean_squared_error: 20.8222\n",
      "Epoch 80/100\n",
      "7/7 [==============================] - 0s 904us/step - loss: 433.5646 - root_mean_squared_error: 20.8222\n",
      "Epoch 81/100\n",
      "7/7 [==============================] - 0s 949us/step - loss: 433.5646 - root_mean_squared_error: 20.8222\n",
      "Epoch 82/100\n",
      "7/7 [==============================] - 0s 923us/step - loss: 433.5647 - root_mean_squared_error: 20.8222\n",
      "Epoch 83/100\n",
      "7/7 [==============================] - 0s 905us/step - loss: 433.5646 - root_mean_squared_error: 20.8222\n",
      "Epoch 84/100\n",
      "7/7 [==============================] - 0s 929us/step - loss: 433.5646 - root_mean_squared_error: 20.8222\n",
      "Epoch 85/100\n",
      "7/7 [==============================] - 0s 931us/step - loss: 433.5647 - root_mean_squared_error: 20.8222\n",
      "Epoch 86/100\n",
      "7/7 [==============================] - 0s 911us/step - loss: 433.5647 - root_mean_squared_error: 20.8222\n",
      "Epoch 87/100\n",
      "7/7 [==============================] - 0s 925us/step - loss: 433.5647 - root_mean_squared_error: 20.8222\n",
      "Epoch 88/100\n",
      "7/7 [==============================] - 0s 939us/step - loss: 433.5647 - root_mean_squared_error: 20.8222\n",
      "Epoch 89/100\n",
      "7/7 [==============================] - 0s 885us/step - loss: 433.5647 - root_mean_squared_error: 20.8222\n",
      "Epoch 90/100\n",
      "7/7 [==============================] - 0s 906us/step - loss: 433.5647 - root_mean_squared_error: 20.8222\n",
      "Epoch 91/100\n",
      "7/7 [==============================] - 0s 964us/step - loss: 433.5646 - root_mean_squared_error: 20.8222\n",
      "Epoch 92/100\n",
      "7/7 [==============================] - 0s 921us/step - loss: 433.5647 - root_mean_squared_error: 20.8222\n",
      "Epoch 93/100\n",
      "7/7 [==============================] - 0s 969us/step - loss: 433.5647 - root_mean_squared_error: 20.8222\n",
      "Epoch 94/100\n",
      "7/7 [==============================] - 0s 929us/step - loss: 433.5647 - root_mean_squared_error: 20.8222\n",
      "Epoch 95/100\n",
      "7/7 [==============================] - 0s 1ms/step - loss: 433.5646 - root_mean_squared_error: 20.8222\n",
      "Epoch 96/100\n",
      "7/7 [==============================] - 0s 983us/step - loss: 433.5647 - root_mean_squared_error: 20.8222\n",
      "Epoch 97/100\n",
      "7/7 [==============================] - 0s 1ms/step - loss: 433.5646 - root_mean_squared_error: 20.8222\n",
      "Epoch 98/100\n",
      "7/7 [==============================] - 0s 987us/step - loss: 433.5647 - root_mean_squared_error: 20.8222\n",
      "Epoch 99/100\n",
      "7/7 [==============================] - 0s 1ms/step - loss: 433.5646 - root_mean_squared_error: 20.8222\n",
      "Epoch 100/100\n",
      "7/7 [==============================] - 0s 829us/step - loss: 433.5646 - root_mean_squared_error: 20.8222\n"
     ]
    },
    {
     "data": {
      "text/plain": [
       "<keras.src.callbacks.History at 0x164cc0190>"
      ]
     },
     "execution_count": 10,
     "metadata": {},
     "output_type": "execute_result"
    }
   ],
   "source": [
    "model.fit(x_train,y_train,epochs=100,batch_size=32)"
   ]
  },
  {
   "cell_type": "markdown",
   "id": "99bb458a",
   "metadata": {},
   "source": [
    "#  Predict target values on the test data"
   ]
  },
  {
   "cell_type": "code",
   "execution_count": 11,
   "id": "41f940c6",
   "metadata": {},
   "outputs": [
    {
     "name": "stdout",
     "output_type": "stream",
     "text": [
      "2/2 [==============================] - 0s 1ms/step\n"
     ]
    }
   ],
   "source": [
    "y_pred=model.predict(x_test)"
   ]
  },
  {
   "cell_type": "markdown",
   "id": "09042649",
   "metadata": {},
   "source": [
    "#  Calculate and display Root Mean Squared Error (RMSE) using custom metric"
   ]
  },
  {
   "cell_type": "code",
   "execution_count": 12,
   "id": "a38eebfe",
   "metadata": {},
   "outputs": [
    {
     "name": "stdout",
     "output_type": "stream",
     "text": [
      "Root Mean Squared Error: 21.16889190673828\n"
     ]
    }
   ],
   "source": [
    "m = tf.keras.metrics.RootMeanSquaredError()\n",
    "m.update_state(y_test,y_pred)\n",
    "print('Root Mean Squared Error:', float(m.result()))"
   ]
  },
  {
   "cell_type": "markdown",
   "id": "709fe87c",
   "metadata": {},
   "source": [
    "# Calculate and display Mean Squared Error (MSE) using custom metric"
   ]
  },
  {
   "cell_type": "code",
   "execution_count": 13,
   "id": "82b529fb",
   "metadata": {},
   "outputs": [
    {
     "name": "stdout",
     "output_type": "stream",
     "text": [
      "Mean Squared Error: 448.1219787597656\n"
     ]
    }
   ],
   "source": [
    "m = tf.keras.metrics.MeanSquaredError()\n",
    "m.update_state(y_test,y_pred)\n",
    "print('Mean Squared Error:', float(m.result()))"
   ]
  },
  {
   "cell_type": "markdown",
   "id": "a60484f7",
   "metadata": {},
   "source": [
    "# Calculate and display Mean Absolute Error (MAE) using custom metric"
   ]
  },
  {
   "cell_type": "code",
   "execution_count": 14,
   "id": "f31e4d60",
   "metadata": {},
   "outputs": [
    {
     "name": "stdout",
     "output_type": "stream",
     "text": [
      "Mean Squared Error: 19.447057723999023\n"
     ]
    }
   ],
   "source": [
    "m = tf.keras.metrics.MeanAbsoluteError()\n",
    "m.update_state(y_test,y_pred)\n",
    "print('Mean Squared Error:', float(m.result()))"
   ]
  },
  {
   "cell_type": "code",
   "execution_count": null,
   "id": "36db173b",
   "metadata": {},
   "outputs": [],
   "source": [
    "#I developed a machine learning model to predict body fat percentage using physiological measurements.\n",
    "#The model achieved a Root Mean Squared Error (RMSE) of 21.17, indicating its ability to estimate body\n",
    "#fat with reasonable accuracy. Further optimization could enhance prediction performance."
   ]
  }
 ],
 "metadata": {
  "kernelspec": {
   "display_name": "Python 3 (ipykernel)",
   "language": "python",
   "name": "python3"
  },
  "language_info": {
   "codemirror_mode": {
    "name": "ipython",
    "version": 3
   },
   "file_extension": ".py",
   "mimetype": "text/x-python",
   "name": "python",
   "nbconvert_exporter": "python",
   "pygments_lexer": "ipython3",
   "version": "3.11.3"
  }
 },
 "nbformat": 4,
 "nbformat_minor": 5
}
