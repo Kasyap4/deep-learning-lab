{
 "cells": [
  {
   "cell_type": "markdown",
   "metadata": {},
   "source": [
    "# Week5_Preetham_210968190"
   ]
  },
  {
   "cell_type": "code",
   "execution_count": 2,
   "metadata": {
    "_cell_guid": "b1076dfc-b9ad-4769-8c92-a6c4dae69d19",
    "_uuid": "8f2839f25d086af736a60e9eeb907d3b93b6e0e5"
   },
   "outputs": [],
   "source": [
    "import numpy as np\n",
    "import tensorflow as tf\n",
    "from sklearn.model_selection import train_test_split\n",
    "from tensorflow.keras.models import Sequential\n",
    "from tensorflow.keras.layers import Dense, SimpleRNN"
   ]
  },
  {
   "cell_type": "markdown",
   "metadata": {},
   "source": [
    "# Question 1\n",
    "# Define the parameters for generating time series data\n",
    "## A) Create a dataset of 10,000 samples with 51 time steps each (Note: the 51st time step should be used as the label)"
   ]
  },
  {
   "cell_type": "code",
   "execution_count": 3,
   "metadata": {
    "execution": {
     "iopub.execute_input": "2023-08-31T10:05:20.466369Z",
     "iopub.status.busy": "2023-08-31T10:05:20.465916Z",
     "iopub.status.idle": "2023-08-31T10:05:20.472440Z",
     "shell.execute_reply": "2023-08-31T10:05:20.471169Z",
     "shell.execute_reply.started": "2023-08-31T10:05:20.466334Z"
    }
   },
   "outputs": [],
   "source": [
    "sample_size = 10000\n",
    "n_steps = 51"
   ]
  },
  {
   "cell_type": "markdown",
   "metadata": {},
   "source": [
    "## Function to generate time series data"
   ]
  },
  {
   "cell_type": "code",
   "execution_count": 4,
   "metadata": {
    "execution": {
     "iopub.execute_input": "2023-08-31T10:05:33.920208Z",
     "iopub.status.busy": "2023-08-31T10:05:33.919159Z",
     "iopub.status.idle": "2023-08-31T10:05:33.928155Z",
     "shell.execute_reply": "2023-08-31T10:05:33.926124Z",
     "shell.execute_reply.started": "2023-08-31T10:05:33.920171Z"
    }
   },
   "outputs": [],
   "source": [
    "def generate_time_series(sample_size, n_steps):\n",
    "    freq1, freq2, offsets1, offsets2 = np.random.rand(4, sample_size, 1)\n",
    "    time = np.linspace(0, 1, n_steps)\n",
    "    series = 0.5 * np.sin((time - offsets1) * (freq1 * 10 + 10))\n",
    "    series += 0.2 * np.sin((time - offsets2) * (freq2 * 20 + 20))\n",
    "    series += 0.1 * (np.random.rand(sample_size, n_steps) - 0.5)\n",
    "    return series[..., np.newaxis].astype(np.float32)"
   ]
  },
  {
   "cell_type": "markdown",
   "metadata": {},
   "source": [
    "### Generate the time series data"
   ]
  },
  {
   "cell_type": "code",
   "execution_count": 5,
   "metadata": {
    "execution": {
     "iopub.execute_input": "2023-08-31T10:05:43.225695Z",
     "iopub.status.busy": "2023-08-31T10:05:43.225164Z",
     "iopub.status.idle": "2023-08-31T10:05:43.279052Z",
     "shell.execute_reply": "2023-08-31T10:05:43.278180Z",
     "shell.execute_reply.started": "2023-08-31T10:05:43.225657Z"
    }
   },
   "outputs": [],
   "source": [
    "series_data = generate_time_series(sample_size, n_steps)\n",
    "X = series_data[:, :n_steps-1, :]  # Input features (first 50 time steps)\n",
    "y = series_data[:, -1, :]  # Labels (51st time step)"
   ]
  },
  {
   "cell_type": "markdown",
   "metadata": {},
   "source": [
    "## B) Split the dataset in the ratio training: validation: testing = 70:20:10."
   ]
  },
  {
   "cell_type": "code",
   "execution_count": 6,
   "metadata": {
    "execution": {
     "iopub.execute_input": "2023-08-31T10:05:51.445456Z",
     "iopub.status.busy": "2023-08-31T10:05:51.444920Z",
     "iopub.status.idle": "2023-08-31T10:05:51.460445Z",
     "shell.execute_reply": "2023-08-31T10:05:51.459220Z",
     "shell.execute_reply.started": "2023-08-31T10:05:51.445413Z"
    }
   },
   "outputs": [],
   "source": [
    "# Step 2: Split the dataset\n",
    "X_train, X_temp, y_train, y_temp = train_test_split(X, y, test_size=0.3, random_state=42)\n",
    "X_valid, X_test, y_valid, y_test = train_test_split(X_temp, y_temp, test_size=0.33, random_state=42)"
   ]
  },
  {
   "cell_type": "markdown",
   "metadata": {},
   "source": [
    "## C) Design, train, test and compare the performances of the following on the prediction of the value of 51st time step in the generated time series."
   ]
  },
  {
   "cell_type": "markdown",
   "metadata": {},
   "source": [
    "## Fully connected neural network"
   ]
  },
  {
   "cell_type": "code",
   "execution_count": 7,
   "metadata": {
    "execution": {
     "iopub.execute_input": "2023-08-31T10:06:00.918659Z",
     "iopub.status.busy": "2023-08-31T10:06:00.918233Z",
     "iopub.status.idle": "2023-08-31T10:06:01.370865Z",
     "shell.execute_reply": "2023-08-31T10:06:01.369688Z",
     "shell.execute_reply.started": "2023-08-31T10:06:00.918609Z"
    }
   },
   "outputs": [],
   "source": [
    "#Step 3: Design and train various models\n",
    "# a. Fully connected neural network\n",
    "fc_model = Sequential([\n",
    "    tf.keras.layers.Flatten(input_shape=(n_steps-1, 1)),\n",
    "    tf.keras.layers.Dense(32, activation='relu'),\n",
    "    tf.keras.layers.Dense(1)\n",
    "])"
   ]
  },
  {
   "cell_type": "markdown",
   "metadata": {},
   "source": [
    "### Simple RNN model with 1 unit"
   ]
  },
  {
   "cell_type": "code",
   "execution_count": 8,
   "metadata": {
    "execution": {
     "iopub.execute_input": "2023-08-31T10:06:10.316326Z",
     "iopub.status.busy": "2023-08-31T10:06:10.315870Z",
     "iopub.status.idle": "2023-08-31T10:06:10.443750Z",
     "shell.execute_reply": "2023-08-31T10:06:10.442228Z",
     "shell.execute_reply.started": "2023-08-31T10:06:10.316292Z"
    }
   },
   "outputs": [],
   "source": [
    "rnn1_model = Sequential([\n",
    "    SimpleRNN(1, input_shape=(n_steps-1, 1)),\n",
    "    Dense(1)\n",
    "])"
   ]
  },
  {
   "cell_type": "markdown",
   "metadata": {},
   "source": [
    "### Simple RNN model with 32 units and 1 output unit"
   ]
  },
  {
   "cell_type": "code",
   "execution_count": 9,
   "metadata": {
    "execution": {
     "iopub.execute_input": "2023-08-31T10:06:21.666571Z",
     "iopub.status.busy": "2023-08-31T10:06:21.666177Z",
     "iopub.status.idle": "2023-08-31T10:06:21.847981Z",
     "shell.execute_reply": "2023-08-31T10:06:21.846885Z",
     "shell.execute_reply.started": "2023-08-31T10:06:21.666543Z"
    }
   },
   "outputs": [],
   "source": [
    "rnn2_model = Sequential([\n",
    "    SimpleRNN(32, input_shape=(n_steps-1, 1), return_sequences=True),\n",
    "    SimpleRNN(1),\n",
    "    Dense(1)\n",
    "])"
   ]
  },
  {
   "cell_type": "markdown",
   "metadata": {},
   "source": [
    "### Simple RNN model with 32 units, 1 output unit, and return sequences"
   ]
  },
  {
   "cell_type": "code",
   "execution_count": 10,
   "metadata": {
    "execution": {
     "iopub.execute_input": "2023-08-31T10:06:29.794440Z",
     "iopub.status.busy": "2023-08-31T10:06:29.794040Z",
     "iopub.status.idle": "2023-08-31T10:06:29.943546Z",
     "shell.execute_reply": "2023-08-31T10:06:29.942221Z",
     "shell.execute_reply.started": "2023-08-31T10:06:29.794412Z"
    }
   },
   "outputs": [],
   "source": [
    "rnn3_model = Sequential([\n",
    "    SimpleRNN(32, input_shape=(n_steps-1, 1), return_sequences=True),\n",
    "    SimpleRNN(1),\n",
    "    Dense(1)\n",
    "])"
   ]
  },
  {
   "cell_type": "markdown",
   "metadata": {},
   "source": [
    "### Simple RNN model with multiple layers"
   ]
  },
  {
   "cell_type": "code",
   "execution_count": 11,
   "metadata": {
    "execution": {
     "iopub.execute_input": "2023-08-31T10:06:38.364070Z",
     "iopub.status.busy": "2023-08-31T10:06:38.363615Z",
     "iopub.status.idle": "2023-08-31T10:06:38.590457Z",
     "shell.execute_reply": "2023-08-31T10:06:38.589346Z",
     "shell.execute_reply.started": "2023-08-31T10:06:38.364038Z"
    }
   },
   "outputs": [],
   "source": [
    "rnn4_model = Sequential([\n",
    "    SimpleRNN(32, input_shape=(n_steps-1, 1), return_sequences=True),\n",
    "    SimpleRNN(32, return_sequences=True),\n",
    "    SimpleRNN(1),\n",
    "    Dense(1)\n",
    "])"
   ]
  },
  {
   "cell_type": "markdown",
   "metadata": {},
   "source": [
    "### Loop through each model and train them"
   ]
  },
  {
   "cell_type": "code",
   "execution_count": 12,
   "metadata": {
    "execution": {
     "iopub.execute_input": "2023-08-31T10:18:48.749795Z",
     "iopub.status.busy": "2023-08-31T10:18:48.749288Z",
     "iopub.status.idle": "2023-08-31T10:22:41.505477Z",
     "shell.execute_reply": "2023-08-31T10:22:41.503998Z",
     "shell.execute_reply.started": "2023-08-31T10:18:48.749761Z"
    }
   },
   "outputs": [
    {
     "name": "stdout",
     "output_type": "stream",
     "text": [
      "Epoch 1/10\n",
      "219/219 [==============================] - 0s 936us/step - loss: 0.0483 - val_loss: 0.0150\n",
      "Epoch 2/10\n",
      "219/219 [==============================] - 0s 596us/step - loss: 0.0108 - val_loss: 0.0085\n",
      "Epoch 3/10\n",
      "219/219 [==============================] - 0s 648us/step - loss: 0.0066 - val_loss: 0.0056\n",
      "Epoch 4/10\n",
      "219/219 [==============================] - 0s 595us/step - loss: 0.0050 - val_loss: 0.0049\n",
      "Epoch 5/10\n",
      "219/219 [==============================] - 0s 589us/step - loss: 0.0044 - val_loss: 0.0045\n",
      "Epoch 6/10\n",
      "219/219 [==============================] - 0s 588us/step - loss: 0.0041 - val_loss: 0.0044\n",
      "Epoch 7/10\n",
      "219/219 [==============================] - 0s 586us/step - loss: 0.0039 - val_loss: 0.0039\n",
      "Epoch 8/10\n",
      "219/219 [==============================] - 0s 600us/step - loss: 0.0036 - val_loss: 0.0040\n",
      "Epoch 9/10\n",
      "219/219 [==============================] - 0s 635us/step - loss: 0.0035 - val_loss: 0.0038\n",
      "Epoch 10/10\n",
      "219/219 [==============================] - 0s 607us/step - loss: 0.0032 - val_loss: 0.0035\n",
      "31/31 [==============================] - 0s 412us/step - loss: 0.0034\n",
      "Test Loss for Fully Connected NN: 0.003358808346092701\n",
      "Epoch 1/10\n",
      "219/219 [==============================] - 1s 4ms/step - loss: 0.4675 - val_loss: 0.3969\n",
      "Epoch 2/10\n",
      "219/219 [==============================] - 1s 3ms/step - loss: 0.3570 - val_loss: 0.3130\n",
      "Epoch 3/10\n",
      "219/219 [==============================] - 1s 3ms/step - loss: 0.2845 - val_loss: 0.2563\n",
      "Epoch 4/10\n",
      "219/219 [==============================] - 1s 3ms/step - loss: 0.2352 - val_loss: 0.2163\n",
      "Epoch 5/10\n",
      "219/219 [==============================] - 1s 3ms/step - loss: 0.2009 - val_loss: 0.1902\n",
      "Epoch 6/10\n",
      "219/219 [==============================] - 1s 3ms/step - loss: 0.1767 - val_loss: 0.1692\n",
      "Epoch 7/10\n",
      "219/219 [==============================] - 1s 3ms/step - loss: 0.1595 - val_loss: 0.1548\n",
      "Epoch 8/10\n",
      "219/219 [==============================] - 1s 3ms/step - loss: 0.1486 - val_loss: 0.1462\n",
      "Epoch 9/10\n",
      "219/219 [==============================] - 1s 3ms/step - loss: 0.1439 - val_loss: 0.1429\n",
      "Epoch 10/10\n",
      "219/219 [==============================] - 1s 3ms/step - loss: 0.1425 - val_loss: 0.1417\n",
      "31/31 [==============================] - 0s 1ms/step - loss: 0.1310\n",
      "Test Loss for Simple RNN 1: 0.13095705211162567\n",
      "Epoch 1/10\n",
      "219/219 [==============================] - 2s 8ms/step - loss: 0.0523 - val_loss: 0.0112\n",
      "Epoch 2/10\n",
      "219/219 [==============================] - 2s 8ms/step - loss: 0.0086 - val_loss: 0.0065\n",
      "Epoch 3/10\n",
      "219/219 [==============================] - 2s 8ms/step - loss: 0.0060 - val_loss: 0.0051\n",
      "Epoch 4/10\n",
      "219/219 [==============================] - 2s 8ms/step - loss: 0.0049 - val_loss: 0.0046\n",
      "Epoch 5/10\n",
      "219/219 [==============================] - 2s 8ms/step - loss: 0.0043 - val_loss: 0.0042\n",
      "Epoch 6/10\n",
      "219/219 [==============================] - 2s 8ms/step - loss: 0.0040 - val_loss: 0.0038\n",
      "Epoch 7/10\n",
      "219/219 [==============================] - 2s 8ms/step - loss: 0.0037 - val_loss: 0.0035\n",
      "Epoch 8/10\n",
      "219/219 [==============================] - 2s 8ms/step - loss: 0.0036 - val_loss: 0.0035\n",
      "Epoch 9/10\n",
      "219/219 [==============================] - 2s 8ms/step - loss: 0.0034 - val_loss: 0.0031\n",
      "Epoch 10/10\n",
      "219/219 [==============================] - 2s 8ms/step - loss: 0.0033 - val_loss: 0.0038\n",
      "31/31 [==============================] - 0s 2ms/step - loss: 0.0040\n",
      "Test Loss for Simple RNN 2: 0.003962215501815081\n",
      "Epoch 1/10\n",
      "219/219 [==============================] - 3s 8ms/step - loss: 0.1053 - val_loss: 0.0128\n",
      "Epoch 2/10\n",
      "219/219 [==============================] - 2s 10ms/step - loss: 0.0087 - val_loss: 0.0077\n",
      "Epoch 3/10\n",
      "219/219 [==============================] - 2s 8ms/step - loss: 0.0069 - val_loss: 0.0062\n",
      "Epoch 4/10\n",
      "219/219 [==============================] - 2s 8ms/step - loss: 0.0056 - val_loss: 0.0054\n",
      "Epoch 5/10\n",
      "219/219 [==============================] - 2s 11ms/step - loss: 0.0049 - val_loss: 0.0046\n",
      "Epoch 6/10\n",
      "219/219 [==============================] - 2s 8ms/step - loss: 0.0045 - val_loss: 0.0051\n",
      "Epoch 7/10\n",
      "219/219 [==============================] - 2s 9ms/step - loss: 0.0041 - val_loss: 0.0044\n",
      "Epoch 8/10\n",
      "219/219 [==============================] - 2s 11ms/step - loss: 0.0038 - val_loss: 0.0039\n",
      "Epoch 9/10\n",
      "219/219 [==============================] - 2s 9ms/step - loss: 0.0036 - val_loss: 0.0033\n",
      "Epoch 10/10\n",
      "219/219 [==============================] - 2s 8ms/step - loss: 0.0035 - val_loss: 0.0034\n",
      "31/31 [==============================] - 0s 2ms/step - loss: 0.0033\n",
      "Test Loss for Simple RNN 3: 0.003257886739447713\n",
      "Epoch 1/10\n",
      "219/219 [==============================] - 4s 15ms/step - loss: 0.0172 - val_loss: 0.0064\n",
      "Epoch 2/10\n",
      "219/219 [==============================] - 3s 13ms/step - loss: 0.0044 - val_loss: 0.0048\n",
      "Epoch 3/10\n",
      "219/219 [==============================] - 3s 13ms/step - loss: 0.0040 - val_loss: 0.0030\n",
      "Epoch 4/10\n",
      "219/219 [==============================] - 3s 13ms/step - loss: 0.0033 - val_loss: 0.0038\n",
      "Epoch 5/10\n",
      "219/219 [==============================] - 3s 13ms/step - loss: 0.0033 - val_loss: 0.0031\n",
      "Epoch 6/10\n",
      "219/219 [==============================] - 3s 13ms/step - loss: 0.0031 - val_loss: 0.0032\n",
      "Epoch 7/10\n",
      "219/219 [==============================] - 3s 13ms/step - loss: 0.0030 - val_loss: 0.0034\n",
      "Epoch 8/10\n",
      "219/219 [==============================] - 3s 15ms/step - loss: 0.0031 - val_loss: 0.0044\n",
      "Epoch 9/10\n",
      "219/219 [==============================] - 5s 21ms/step - loss: 0.0030 - val_loss: 0.0029\n",
      "Epoch 10/10\n",
      "219/219 [==============================] - 3s 15ms/step - loss: 0.0030 - val_loss: 0.0029\n",
      "31/31 [==============================] - 0s 3ms/step - loss: 0.0028\n",
      "Test Loss for Simple RNN 4: 0.0028435918502509594\n"
     ]
    }
   ],
   "source": [
    "for model, model_name in [(fc_model, 'Fully Connected NN'), \n",
    "                          (rnn1_model, 'Simple RNN 1'),\n",
    "                          (rnn2_model, 'Simple RNN 2'), \n",
    "                          (rnn3_model, 'Simple RNN 3'),\n",
    "                          (rnn4_model, 'Simple RNN 4')]:\n",
    "    model.compile(optimizer='adam', loss='mean_squared_error')\n",
    "    model.fit(X_train, y_train, epochs=10, validation_data=(X_valid, y_valid))\n",
    "    \n",
    "    # Evaluate the model on the test data\n",
    "    test_loss = model.evaluate(X_test, y_test)\n",
    "    \n",
    "    # Print the test loss\n",
    "    print(f\"Test Loss for {model_name}: {test_loss}\")\n"
   ]
  },
  {
   "cell_type": "markdown",
   "metadata": {},
   "source": [
    "### Test losses for all models"
   ]
  },
  {
   "cell_type": "code",
   "execution_count": 24,
   "metadata": {
    "execution": {
     "iopub.execute_input": "2023-08-31T10:32:24.280081Z",
     "iopub.status.busy": "2023-08-31T10:32:24.279594Z",
     "iopub.status.idle": "2023-08-31T10:32:24.285988Z",
     "shell.execute_reply": "2023-08-31T10:32:24.284670Z",
     "shell.execute_reply.started": "2023-08-31T10:32:24.280047Z"
    }
   },
   "outputs": [],
   "source": [
    "#Test Losses:\n",
    "#Model               Test Loss      \n",
    "#Fully Connected NN  0.002751793246716261\n",
    "#imple RNN 1        0.011672851629555225\n",
    "#Simple RNN 2        0.0033993739634752274\n",
    "#Simple RNN 3        0.003061196068301797\n",
    "#Simple RNN 4        0.003009204287081957"
   ]
  },
  {
   "cell_type": "markdown",
   "metadata": {},
   "source": [
    "# Q2) Consider the Google Stock Prediction dataset."
   ]
  },
  {
   "cell_type": "code",
   "execution_count": 13,
   "metadata": {
    "execution": {
     "iopub.execute_input": "2023-08-31T10:36:03.851528Z",
     "iopub.status.busy": "2023-08-31T10:36:03.851076Z",
     "iopub.status.idle": "2023-08-31T10:36:03.859277Z",
     "shell.execute_reply": "2023-08-31T10:36:03.857794Z",
     "shell.execute_reply.started": "2023-08-31T10:36:03.851496Z"
    }
   },
   "outputs": [],
   "source": [
    "import pandas as pd\n",
    "import numpy as np\n",
    "from sklearn.preprocessing import MinMaxScaler\n",
    "from sklearn.metrics import mean_squared_error, mean_absolute_percentage_error\n",
    "from tensorflow.keras.models import Sequential\n",
    "from tensorflow.keras.layers import SimpleRNN, Dense, Dropout\n",
    "from tensorflow.keras.optimizers import Adam\n",
    "import matplotlib.pyplot as plt"
   ]
  },
  {
   "cell_type": "markdown",
   "metadata": {},
   "source": [
    "### Load the dataset"
   ]
  },
  {
   "cell_type": "code",
   "execution_count": 15,
   "metadata": {
    "execution": {
     "iopub.execute_input": "2023-08-31T10:40:53.157075Z",
     "iopub.status.busy": "2023-08-31T10:40:53.156622Z",
     "iopub.status.idle": "2023-08-31T10:40:53.165945Z",
     "shell.execute_reply": "2023-08-31T10:40:53.164576Z",
     "shell.execute_reply.started": "2023-08-31T10:40:53.157044Z"
    }
   },
   "outputs": [],
   "source": [
    "data = pd.read_csv('GOOG.csv')  "
   ]
  },
  {
   "cell_type": "code",
   "execution_count": 17,
   "metadata": {
    "execution": {
     "iopub.execute_input": "2023-08-31T10:42:35.293088Z",
     "iopub.status.busy": "2023-08-31T10:42:35.292656Z",
     "iopub.status.idle": "2023-08-31T10:42:35.311825Z",
     "shell.execute_reply": "2023-08-31T10:42:35.310998Z",
     "shell.execute_reply.started": "2023-08-31T10:42:35.293054Z"
    }
   },
   "outputs": [
    {
     "data": {
      "text/html": [
       "<div>\n",
       "<style scoped>\n",
       "    .dataframe tbody tr th:only-of-type {\n",
       "        vertical-align: middle;\n",
       "    }\n",
       "\n",
       "    .dataframe tbody tr th {\n",
       "        vertical-align: top;\n",
       "    }\n",
       "\n",
       "    .dataframe thead th {\n",
       "        text-align: right;\n",
       "    }\n",
       "</style>\n",
       "<table border=\"1\" class=\"dataframe\">\n",
       "  <thead>\n",
       "    <tr style=\"text-align: right;\">\n",
       "      <th></th>\n",
       "      <th>symbol</th>\n",
       "      <th>date</th>\n",
       "      <th>close</th>\n",
       "      <th>high</th>\n",
       "      <th>low</th>\n",
       "      <th>open</th>\n",
       "      <th>volume</th>\n",
       "      <th>adjClose</th>\n",
       "      <th>adjHigh</th>\n",
       "      <th>adjLow</th>\n",
       "      <th>adjOpen</th>\n",
       "      <th>adjVolume</th>\n",
       "      <th>divCash</th>\n",
       "      <th>splitFactor</th>\n",
       "    </tr>\n",
       "  </thead>\n",
       "  <tbody>\n",
       "    <tr>\n",
       "      <th>0</th>\n",
       "      <td>GOOG</td>\n",
       "      <td>2016-06-14 00:00:00+00:00</td>\n",
       "      <td>718.27</td>\n",
       "      <td>722.47</td>\n",
       "      <td>713.1200</td>\n",
       "      <td>716.48</td>\n",
       "      <td>1306065</td>\n",
       "      <td>718.27</td>\n",
       "      <td>722.47</td>\n",
       "      <td>713.1200</td>\n",
       "      <td>716.48</td>\n",
       "      <td>1306065</td>\n",
       "      <td>0.0</td>\n",
       "      <td>1.0</td>\n",
       "    </tr>\n",
       "    <tr>\n",
       "      <th>1</th>\n",
       "      <td>GOOG</td>\n",
       "      <td>2016-06-15 00:00:00+00:00</td>\n",
       "      <td>718.92</td>\n",
       "      <td>722.98</td>\n",
       "      <td>717.3100</td>\n",
       "      <td>719.00</td>\n",
       "      <td>1214517</td>\n",
       "      <td>718.92</td>\n",
       "      <td>722.98</td>\n",
       "      <td>717.3100</td>\n",
       "      <td>719.00</td>\n",
       "      <td>1214517</td>\n",
       "      <td>0.0</td>\n",
       "      <td>1.0</td>\n",
       "    </tr>\n",
       "    <tr>\n",
       "      <th>2</th>\n",
       "      <td>GOOG</td>\n",
       "      <td>2016-06-16 00:00:00+00:00</td>\n",
       "      <td>710.36</td>\n",
       "      <td>716.65</td>\n",
       "      <td>703.2600</td>\n",
       "      <td>714.91</td>\n",
       "      <td>1982471</td>\n",
       "      <td>710.36</td>\n",
       "      <td>716.65</td>\n",
       "      <td>703.2600</td>\n",
       "      <td>714.91</td>\n",
       "      <td>1982471</td>\n",
       "      <td>0.0</td>\n",
       "      <td>1.0</td>\n",
       "    </tr>\n",
       "    <tr>\n",
       "      <th>3</th>\n",
       "      <td>GOOG</td>\n",
       "      <td>2016-06-17 00:00:00+00:00</td>\n",
       "      <td>691.72</td>\n",
       "      <td>708.82</td>\n",
       "      <td>688.4515</td>\n",
       "      <td>708.65</td>\n",
       "      <td>3402357</td>\n",
       "      <td>691.72</td>\n",
       "      <td>708.82</td>\n",
       "      <td>688.4515</td>\n",
       "      <td>708.65</td>\n",
       "      <td>3402357</td>\n",
       "      <td>0.0</td>\n",
       "      <td>1.0</td>\n",
       "    </tr>\n",
       "    <tr>\n",
       "      <th>4</th>\n",
       "      <td>GOOG</td>\n",
       "      <td>2016-06-20 00:00:00+00:00</td>\n",
       "      <td>693.71</td>\n",
       "      <td>702.48</td>\n",
       "      <td>693.4100</td>\n",
       "      <td>698.77</td>\n",
       "      <td>2082538</td>\n",
       "      <td>693.71</td>\n",
       "      <td>702.48</td>\n",
       "      <td>693.4100</td>\n",
       "      <td>698.77</td>\n",
       "      <td>2082538</td>\n",
       "      <td>0.0</td>\n",
       "      <td>1.0</td>\n",
       "    </tr>\n",
       "  </tbody>\n",
       "</table>\n",
       "</div>"
      ],
      "text/plain": [
       "  symbol                       date   close    high       low    open  \\\n",
       "0   GOOG  2016-06-14 00:00:00+00:00  718.27  722.47  713.1200  716.48   \n",
       "1   GOOG  2016-06-15 00:00:00+00:00  718.92  722.98  717.3100  719.00   \n",
       "2   GOOG  2016-06-16 00:00:00+00:00  710.36  716.65  703.2600  714.91   \n",
       "3   GOOG  2016-06-17 00:00:00+00:00  691.72  708.82  688.4515  708.65   \n",
       "4   GOOG  2016-06-20 00:00:00+00:00  693.71  702.48  693.4100  698.77   \n",
       "\n",
       "    volume  adjClose  adjHigh    adjLow  adjOpen  adjVolume  divCash  \\\n",
       "0  1306065    718.27   722.47  713.1200   716.48    1306065      0.0   \n",
       "1  1214517    718.92   722.98  717.3100   719.00    1214517      0.0   \n",
       "2  1982471    710.36   716.65  703.2600   714.91    1982471      0.0   \n",
       "3  3402357    691.72   708.82  688.4515   708.65    3402357      0.0   \n",
       "4  2082538    693.71   702.48  693.4100   698.77    2082538      0.0   \n",
       "\n",
       "   splitFactor  \n",
       "0          1.0  \n",
       "1          1.0  \n",
       "2          1.0  \n",
       "3          1.0  \n",
       "4          1.0  "
      ]
     },
     "execution_count": 17,
     "metadata": {},
     "output_type": "execute_result"
    }
   ],
   "source": [
    "data.head()"
   ]
  },
  {
   "cell_type": "code",
   "execution_count": 18,
   "metadata": {},
   "outputs": [],
   "source": [
    "data['date'] = pd.to_datetime(data['date'])\n",
    "data.set_index('date', inplace=True)"
   ]
  },
  {
   "cell_type": "markdown",
   "metadata": {},
   "source": [
    "###  Split data into training (up to 2019) and testing (2020 and 2021) sets"
   ]
  },
  {
   "cell_type": "code",
   "execution_count": 19,
   "metadata": {},
   "outputs": [],
   "source": [
    "train_data = data[data.index.year < 2020]\n",
    "test_data = data[(data.index.year >= 2020) & (data.index.year <= 2021)]"
   ]
  },
  {
   "cell_type": "code",
   "execution_count": 20,
   "metadata": {},
   "outputs": [],
   "source": [
    "train_close = train_data['close'].values\n",
    "test_close = test_data['close'].values"
   ]
  },
  {
   "cell_type": "markdown",
   "metadata": {},
   "source": [
    "### Normalize the data (Min-Max scaling)"
   ]
  },
  {
   "cell_type": "code",
   "execution_count": 21,
   "metadata": {},
   "outputs": [],
   "source": [
    "scaler = MinMaxScaler()\n",
    "train_close = scaler.fit_transform(train_close.reshape(-1, 1))\n",
    "test_close = scaler.transform(test_close.reshape(-1, 1))"
   ]
  },
  {
   "cell_type": "markdown",
   "metadata": {},
   "source": [
    "### sequences for RNN "
   ]
  },
  {
   "cell_type": "code",
   "execution_count": 22,
   "metadata": {},
   "outputs": [],
   "source": [
    "def create_sequences(data, seq_length):\n",
    "    sequences = []\n",
    "    for i in range(len(data) - seq_length):\n",
    "        sequence = data[i:i+seq_length]\n",
    "        sequences.append(sequence)\n",
    "    return np.array(sequences)"
   ]
  },
  {
   "cell_type": "code",
   "execution_count": 23,
   "metadata": {},
   "outputs": [],
   "source": [
    "seq_length = 10  # You can adjust this sequence length\n",
    "X_train = create_sequences(train_close, seq_length)\n",
    "X_test = create_sequences(test_close, seq_length)\n",
    "y_train = train_close[seq_length:]\n",
    "y_test = test_close[seq_length:]"
   ]
  },
  {
   "cell_type": "markdown",
   "metadata": {},
   "source": [
    "### B. Build the RNN Model"
   ]
  },
  {
   "cell_type": "code",
   "execution_count": 24,
   "metadata": {},
   "outputs": [],
   "source": [
    "model = tf.keras.Sequential([\n",
    "    tf.keras.layers.SimpleRNN(64, return_sequences=True, input_shape=(seq_length, 1)),\n",
    "    tf.keras.layers.SimpleRNN(64, return_sequences=True),\n",
    "    tf.keras.layers.SimpleRNN(64, return_sequences=True),\n",
    "    tf.keras.layers.SimpleRNN(64),\n",
    "    tf.keras.layers.Dense(1)\n",
    "])"
   ]
  },
  {
   "cell_type": "markdown",
   "metadata": {},
   "source": [
    "###  C. Compile and Train the Model"
   ]
  },
  {
   "cell_type": "code",
   "execution_count": 25,
   "metadata": {},
   "outputs": [
    {
     "name": "stdout",
     "output_type": "stream",
     "text": [
      "Epoch 1/50\n",
      "23/23 - 2s - loss: 0.2054 - val_loss: 0.0090 - 2s/epoch - 71ms/step\n",
      "Epoch 2/50\n",
      "23/23 - 0s - loss: 0.0087 - val_loss: 0.0075 - 128ms/epoch - 6ms/step\n",
      "Epoch 3/50\n",
      "23/23 - 0s - loss: 0.0027 - val_loss: 0.0067 - 126ms/epoch - 5ms/step\n",
      "Epoch 4/50\n",
      "23/23 - 0s - loss: 0.0016 - val_loss: 0.0048 - 129ms/epoch - 6ms/step\n",
      "Epoch 5/50\n",
      "23/23 - 0s - loss: 0.0014 - val_loss: 0.0055 - 150ms/epoch - 7ms/step\n",
      "Epoch 6/50\n",
      "23/23 - 0s - loss: 0.0014 - val_loss: 0.0024 - 149ms/epoch - 6ms/step\n",
      "Epoch 7/50\n",
      "23/23 - 0s - loss: 0.0016 - val_loss: 0.0023 - 148ms/epoch - 6ms/step\n",
      "Epoch 8/50\n",
      "23/23 - 0s - loss: 0.0015 - val_loss: 0.0023 - 151ms/epoch - 7ms/step\n",
      "Epoch 9/50\n",
      "23/23 - 0s - loss: 0.0013 - val_loss: 0.0080 - 154ms/epoch - 7ms/step\n",
      "Epoch 10/50\n",
      "23/23 - 0s - loss: 0.0020 - val_loss: 0.0021 - 151ms/epoch - 7ms/step\n",
      "Epoch 11/50\n",
      "23/23 - 0s - loss: 0.0011 - val_loss: 0.0054 - 161ms/epoch - 7ms/step\n",
      "Epoch 12/50\n",
      "23/23 - 0s - loss: 0.0015 - val_loss: 0.0019 - 148ms/epoch - 6ms/step\n",
      "Epoch 13/50\n",
      "23/23 - 0s - loss: 0.0010 - val_loss: 0.0018 - 151ms/epoch - 7ms/step\n",
      "Epoch 14/50\n",
      "23/23 - 0s - loss: 0.0011 - val_loss: 0.0036 - 148ms/epoch - 6ms/step\n",
      "Epoch 15/50\n",
      "23/23 - 0s - loss: 0.0010 - val_loss: 0.0024 - 149ms/epoch - 6ms/step\n",
      "Epoch 16/50\n",
      "23/23 - 0s - loss: 0.0014 - val_loss: 0.0017 - 149ms/epoch - 6ms/step\n",
      "Epoch 17/50\n",
      "23/23 - 0s - loss: 9.7694e-04 - val_loss: 0.0020 - 157ms/epoch - 7ms/step\n",
      "Epoch 18/50\n",
      "23/23 - 0s - loss: 9.5872e-04 - val_loss: 0.0016 - 155ms/epoch - 7ms/step\n",
      "Epoch 19/50\n",
      "23/23 - 0s - loss: 0.0018 - val_loss: 0.0018 - 159ms/epoch - 7ms/step\n",
      "Epoch 20/50\n",
      "23/23 - 0s - loss: 9.0929e-04 - val_loss: 0.0019 - 155ms/epoch - 7ms/step\n",
      "Epoch 21/50\n",
      "23/23 - 0s - loss: 9.4077e-04 - val_loss: 0.0043 - 147ms/epoch - 6ms/step\n",
      "Epoch 22/50\n",
      "23/23 - 0s - loss: 0.0011 - val_loss: 0.0016 - 146ms/epoch - 6ms/step\n",
      "Epoch 23/50\n",
      "23/23 - 0s - loss: 0.0017 - val_loss: 0.0035 - 147ms/epoch - 6ms/step\n",
      "Epoch 24/50\n",
      "23/23 - 0s - loss: 0.0016 - val_loss: 0.0016 - 147ms/epoch - 6ms/step\n",
      "Epoch 25/50\n",
      "23/23 - 0s - loss: 8.3857e-04 - val_loss: 0.0020 - 148ms/epoch - 6ms/step\n",
      "Epoch 26/50\n",
      "23/23 - 0s - loss: 8.5410e-04 - val_loss: 0.0014 - 147ms/epoch - 6ms/step\n",
      "Epoch 27/50\n",
      "23/23 - 0s - loss: 8.0516e-04 - val_loss: 0.0015 - 148ms/epoch - 6ms/step\n",
      "Epoch 28/50\n",
      "23/23 - 0s - loss: 9.0502e-04 - val_loss: 0.0014 - 146ms/epoch - 6ms/step\n",
      "Epoch 29/50\n",
      "23/23 - 0s - loss: 9.2615e-04 - val_loss: 0.0013 - 147ms/epoch - 6ms/step\n",
      "Epoch 30/50\n",
      "23/23 - 0s - loss: 0.0012 - val_loss: 0.0017 - 147ms/epoch - 6ms/step\n",
      "Epoch 31/50\n",
      "23/23 - 0s - loss: 0.0012 - val_loss: 0.0045 - 147ms/epoch - 6ms/step\n",
      "Epoch 32/50\n",
      "23/23 - 0s - loss: 0.0012 - val_loss: 0.0013 - 146ms/epoch - 6ms/step\n",
      "Epoch 33/50\n",
      "23/23 - 0s - loss: 7.7307e-04 - val_loss: 0.0023 - 146ms/epoch - 6ms/step\n",
      "Epoch 34/50\n",
      "23/23 - 0s - loss: 0.0010 - val_loss: 0.0014 - 148ms/epoch - 6ms/step\n",
      "Epoch 35/50\n",
      "23/23 - 0s - loss: 8.8894e-04 - val_loss: 0.0013 - 147ms/epoch - 6ms/step\n",
      "Epoch 36/50\n",
      "23/23 - 0s - loss: 8.6378e-04 - val_loss: 0.0012 - 147ms/epoch - 6ms/step\n",
      "Epoch 37/50\n",
      "23/23 - 0s - loss: 0.0011 - val_loss: 0.0013 - 148ms/epoch - 6ms/step\n",
      "Epoch 38/50\n",
      "23/23 - 0s - loss: 7.6637e-04 - val_loss: 0.0017 - 146ms/epoch - 6ms/step\n",
      "Epoch 39/50\n",
      "23/23 - 0s - loss: 7.6614e-04 - val_loss: 0.0014 - 149ms/epoch - 6ms/step\n",
      "Epoch 40/50\n",
      "23/23 - 0s - loss: 8.0352e-04 - val_loss: 0.0012 - 147ms/epoch - 6ms/step\n",
      "Epoch 41/50\n",
      "23/23 - 0s - loss: 7.5488e-04 - val_loss: 0.0027 - 148ms/epoch - 6ms/step\n",
      "Epoch 42/50\n",
      "23/23 - 0s - loss: 9.6543e-04 - val_loss: 0.0015 - 147ms/epoch - 6ms/step\n",
      "Epoch 43/50\n",
      "23/23 - 0s - loss: 0.0012 - val_loss: 0.0017 - 147ms/epoch - 6ms/step\n",
      "Epoch 44/50\n",
      "23/23 - 0s - loss: 0.0012 - val_loss: 0.0026 - 147ms/epoch - 6ms/step\n",
      "Epoch 45/50\n",
      "23/23 - 0s - loss: 9.8179e-04 - val_loss: 0.0016 - 146ms/epoch - 6ms/step\n",
      "Epoch 46/50\n",
      "23/23 - 0s - loss: 8.7307e-04 - val_loss: 0.0016 - 147ms/epoch - 6ms/step\n",
      "Epoch 47/50\n",
      "23/23 - 0s - loss: 0.0014 - val_loss: 0.0014 - 147ms/epoch - 6ms/step\n",
      "Epoch 48/50\n",
      "23/23 - 0s - loss: 0.0010 - val_loss: 0.0038 - 148ms/epoch - 6ms/step\n",
      "Epoch 49/50\n",
      "23/23 - 0s - loss: 0.0011 - val_loss: 0.0015 - 147ms/epoch - 6ms/step\n",
      "Epoch 50/50\n",
      "23/23 - 0s - loss: 8.5980e-04 - val_loss: 0.0038 - 147ms/epoch - 6ms/step\n"
     ]
    }
   ],
   "source": [
    "model.compile(optimizer='adam', loss='mean_squared_error')\n",
    "history = model.fit(X_train, y_train, epochs=50, batch_size=32, validation_split=0.2, verbose=2)"
   ]
  },
  {
   "cell_type": "markdown",
   "metadata": {},
   "source": [
    "### D. Make Predictions and Evaluate"
   ]
  },
  {
   "cell_type": "code",
   "execution_count": 26,
   "metadata": {},
   "outputs": [
    {
     "name": "stdout",
     "output_type": "stream",
     "text": [
      "12/12 [==============================] - 0s 2ms/step\n"
     ]
    }
   ],
   "source": [
    "y_pred = model.predict(X_test)\n",
    "y_pred = scaler.inverse_transform(y_pred)\n",
    "y_test_actual = scaler.inverse_transform(y_test)"
   ]
  },
  {
   "cell_type": "code",
   "execution_count": 27,
   "metadata": {},
   "outputs": [],
   "source": [
    "# Calculate MAPE\n",
    "def mean_absolute_percentage_error(y_true, y_pred):\n",
    "    return np.mean(np.abs((y_true - y_pred) / y_true)) * 100"
   ]
  },
  {
   "cell_type": "code",
   "execution_count": 28,
   "metadata": {},
   "outputs": [
    {
     "name": "stdout",
     "output_type": "stream",
     "text": [
      "MAPE: 13.35%\n"
     ]
    }
   ],
   "source": [
    "mape = mean_absolute_percentage_error(y_test_actual, y_pred)\n",
    "print(f'MAPE: {mape:.2f}%')"
   ]
  },
  {
   "cell_type": "code",
   "execution_count": 29,
   "metadata": {},
   "outputs": [
    {
     "name": "stdout",
     "output_type": "stream",
     "text": [
      "MSE: 123808.39\n"
     ]
    }
   ],
   "source": [
    "# Calculate MSE\n",
    "mse = mean_squared_error(y_test_actual, y_pred)\n",
    "print(f'MSE: {mse:.2f}')"
   ]
  },
  {
   "cell_type": "markdown",
   "metadata": {},
   "source": [
    "###  Plot actual vs. predicted values"
   ]
  },
  {
   "cell_type": "code",
   "execution_count": 30,
   "metadata": {},
   "outputs": [
    {
     "data": {
      "image/png": "[encoded data removed]",
      "text/plain": [
       "<Figure size 1200x600 with 1 Axes>"
      ]
     },
     "metadata": {},
     "output_type": "display_data"
    }
   ],
   "source": [
    "plt.figure(figsize=(12, 6))\n",
    "plt.plot(test_data.index[seq_length:], y_test_actual, label='Actual')\n",
    "plt.plot(test_data.index[seq_length:], y_pred, label='Predicted')\n",
    "plt.xlabel('Date')\n",
    "plt.ylabel('Stock Price')\n",
    "plt.title('Google Stock Price Prediction (2020-2021)')\n",
    "plt.legend()\n",
    "plt.show()"
   ]
  },
  {
   "cell_type": "code",
   "execution_count": 36,
   "metadata": {},
   "outputs": [
    {
     "data": {
      "image/png": "[encoded data removed]",
      "text/plain": [
       "<Figure size 1200x600 with 1 Axes>"
      ]
     },
     "metadata": {},
     "output_type": "display_data"
    }
   ],
   "source": [
    "# Plot 2: Training and Validation Loss Over Epochs\n",
    "plt.figure(figsize=(12, 6))\n",
    "plt.plot(history.history['loss'], label='Training Loss')\n",
    "plt.plot(history.history['val_loss'], label='Validation Loss')\n",
    "plt.xlabel('Epoch')\n",
    "plt.ylabel('Loss')\n",
    "plt.title('Training and Validation Loss Over Epochs')\n",
    "plt.legend()\n",
    "plt.show()"
   ]
  },
  {
   "cell_type": "code",
   "execution_count": 35,
   "metadata": {},
   "outputs": [
    {
     "data": {
      "image/png": "[encoded data removed]",
      "text/plain": [
       "<Figure size 1200x600 with 1 Axes>"
      ]
     },
     "metadata": {},
     "output_type": "display_data"
    }
   ],
   "source": [
    "residuals = y_test_actual - y_pred\n",
    "plt.figure(figsize=(12, 6))\n",
    "plt.scatter(y_test_actual, residuals)\n",
    "plt.axhline(y=0, color='red', linestyle='--')\n",
    "plt.xlabel('Actual Values')\n",
    "plt.ylabel('Residuals')\n",
    "plt.title('Residual Plot')\n",
    "plt.show()"
   ]
  },
  {
   "cell_type": "code",
   "execution_count": null,
   "metadata": {},
   "outputs": [],
   "source": []
  }
 ],
 "metadata": {
  "kernelspec": {
   "display_name": "Python 3 (ipykernel)",
   "language": "python",
   "name": "python3"
  },
  "language_info": {
   "codemirror_mode": {
    "name": "ipython",
    "version": 3
   },
   "file_extension": ".py",
   "mimetype": "text/x-python",
   "name": "python",
   "nbconvert_exporter": "python",
   "pygments_lexer": "ipython3",
   "version": "3.11.3"
  }
 },
 "nbformat": 4,
 "nbformat_minor": 4
}
